{
 "cells": [
  {
   "cell_type": "markdown",
   "metadata": {},
   "source": [
    "Filter the differential expression data for our dataset of single exon genes"
   ]
  },
  {
   "cell_type": "code",
   "execution_count": null,
   "metadata": {},
   "outputs": [
    {
     "name": "stdout",
     "output_type": "stream",
     "text": [
      "Il file filtrato è stato salvato qui: C:/Users/sofia/Desktop/Differential Expression Analysis/Hermansky Pudlak syndrome type 6/filtered_output.tsv\n"
     ]
    }
   ],
   "source": [
    "import pandas as pd\n",
    "\n",
    "file1_path = \"C:/Users/sofia/Desktop/Human Intronless Genes/correlated diseases/Differential Expression Analysis/Hermansky Pudlak syndrome type 6/GSE179899.top.table.tsv\"\n",
    "file2_path = \"C:/Users/sofia/Desktop/Human Intronless Genes/correlated diseases/Differential Expression Analysis/single_exon_gene_list.csv\"\n",
    "\n",
    "df1 = pd.read_csv(file1_path, sep='\\t')  \n",
    "df2 = pd.read_csv(file2_path)            \n",
    "\n",
    "filtered_df = df1[df1.iloc[:, 7].isin(df2.iloc[:, 0])]\n",
    "\n",
    "output_path = 'C:/Users/sofia/Desktop/Differential Expression Analysis/Hermansky Pudlak syndrome type 6/filtered_output.tsv'\n",
    "filtered_df.to_csv(output_path, sep='\\t', index=False)"
   ]
  },
  {
   "cell_type": "code",
   "execution_count": null,
   "metadata": {},
   "outputs": [],
   "source": [
    "data= pd.read_csv('Hermansky Pudlak syndrome type 6/filtered_output.tsv', sep='\\t')\n",
    "data.to_excel('Hermansky Pudlak syndrome type 6/filtered_output_excel.xlsx', index=False)"
   ]
  },
  {
   "cell_type": "markdown",
   "metadata": {},
   "source": [
    "Extract the expanded gene list from .json file"
   ]
  },
  {
   "cell_type": "code",
   "execution_count": null,
   "metadata": {},
   "outputs": [
    {
     "name": "stdout",
     "output_type": "stream",
     "text": [
      "Lista di geni salvata come 'extracted_genes_column.txt'\n"
     ]
    }
   ],
   "source": [
    "import json\n",
    "\n",
    "with open('file_path', 'r') as f:\n",
    "    data = json.load(f)\n",
    "\n",
    "# Extraction of genes containing nodes\n",
    "nodes = data.get(\"elements\", {}).get(\"nodes\", [])\n",
    "genes = [node[\"data\"][\"label_gene\"] for node in nodes if \"label_gene\" in node[\"data\"]]\n",
    "\n",
    "# Duplicate removal and sorting\n",
    "unique_genes = sorted(set(genes))\n",
    "\n",
    "with open(\"extracted_file_path\", \"w\") as output_file:\n",
    "    for gene in unique_genes:\n",
    "        output_file.write(f\"{gene}\\n\")"
   ]
  }
 ],
 "metadata": {
  "kernelspec": {
   "display_name": "Python 3",
   "language": "python",
   "name": "python3"
  },
  "language_info": {
   "codemirror_mode": {
    "name": "ipython",
    "version": 3
   },
   "file_extension": ".py",
   "mimetype": "text/x-python",
   "name": "python",
   "nbconvert_exporter": "python",
   "pygments_lexer": "ipython3",
   "version": "3.11.9"
  }
 },
 "nbformat": 4,
 "nbformat_minor": 2
}
